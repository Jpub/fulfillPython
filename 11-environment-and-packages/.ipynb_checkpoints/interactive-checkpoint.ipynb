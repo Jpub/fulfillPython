{
 "cells": [
  {
   "cell_type": "markdown",
   "metadata": {},
   "source": [
    "# 가상 환경 ── 격리된 파이썬 실행 환경"
   ]
  },
  {
   "cell_type": "markdown",
   "metadata": {},
   "source": [
    "## venv ── 가상 환경 생성 도구"
   ]
  },
  {
   "cell_type": "code",
   "execution_count": 1,
   "metadata": {},
   "outputs": [],
   "source": [
    "!mkdir -p workspace/hobby"
   ]
  },
  {
   "cell_type": "code",
   "execution_count": 2,
   "metadata": {},
   "outputs": [],
   "source": [
    "!mkdir -p workspace/work"
   ]
  },
  {
   "cell_type": "code",
   "execution_count": 3,
   "metadata": {},
   "outputs": [
    {
     "name": "stdout",
     "output_type": "stream",
     "text": [
      "/Users/yeonsookim/Workspaces/personal/python-src/11-environment-and-packages/workspace/hobby\n"
     ]
    }
   ],
   "source": [
    "%cd workspace/hobby"
   ]
  },
  {
   "cell_type": "code",
   "execution_count": 4,
   "metadata": {},
   "outputs": [],
   "source": [
    "!python -m venv venv"
   ]
  },
  {
   "cell_type": "code",
   "execution_count": 5,
   "metadata": {},
   "outputs": [
    {
     "name": "stdout",
     "output_type": "stream",
     "text": [
      "\u001b[34mvenv\u001b[m\u001b[m\n"
     ]
    }
   ],
   "source": [
    "!ls"
   ]
  },
  {
   "cell_type": "markdown",
   "metadata": {},
   "source": [
    "### venv의 구조"
   ]
  },
  {
   "cell_type": "code",
   "execution_count": 6,
   "metadata": {},
   "outputs": [
    {
     "name": "stdout",
     "output_type": "stream",
     "text": [
      "Activate.ps1     activate.fish    \u001b[31mpip\u001b[m\u001b[m              \u001b[35mpython\u001b[m\u001b[m\n",
      "activate         \u001b[31measy_install\u001b[m\u001b[m     \u001b[31mpip3\u001b[m\u001b[m             \u001b[35mpython3\u001b[m\u001b[m\n",
      "activate.csh     \u001b[31measy_install-3.8\u001b[m\u001b[m \u001b[31mpip3.8\u001b[m\u001b[m\n"
     ]
    }
   ],
   "source": [
    "!ls venv/bin"
   ]
  },
  {
   "cell_type": "markdown",
   "metadata": {},
   "source": [
    "### 가상 환경 활성화 및 비활성화"
   ]
  },
  {
   "cell_type": "raw",
   "metadata": {},
   "source": [
    "Notebook 환경은 이미 파이썬 환경 안이므로 가상 환경은 활성화 할 수 없습니다."
   ]
  },
  {
   "cell_type": "raw",
   "metadata": {},
   "source": [
    "# 가상 환경 활성화\n",
    "# 점(.) 대신 source 명령어를 사용해도 동일\n",
    "$ . venv/bin/activate"
   ]
  },
  {
   "cell_type": "raw",
   "metadata": {},
   "source": [
    "# 가상 환경 내\n",
    "(venv) $ echo $PATH\n",
    "/Users/rhoboro/workspace/hobby/venv/bin:/usr/local/sbin:/usr/bin:..."
   ]
  },
  {
   "cell_type": "markdown",
   "metadata": {},
   "source": [
    "### 가상 환경 안에서의 python 명령어"
   ]
  },
  {
   "cell_type": "raw",
   "metadata": {},
   "source": [
    "# venv/bin/ 안의 명령어를 이용할 수 있으며 두 명령어 모두 동일하게 동작함\n",
    "(venv) $ which python\n",
    "/Users/rhoboro/workspace/hobby/venv/bin/python\n",
    "(venv) $ which python3\n",
    "/Users/rhoboro/workspace/hobby/venv/bin/python3"
   ]
  },
  {
   "cell_type": "raw",
   "metadata": {},
   "source": [
    "# pip, pip3, pip3.8도 동일함\n",
    "(venv) $ which pip\n",
    "/Users/rhoboro/workspace/hobby/venv/bin/pip\n",
    "(venv) $ which pip3\n",
    "/Users/rhoboro/workspace/hobby/venv/bin/pip3\n",
    "(venv) $ which pip3.8\n",
    "/Users/rhoboro/workspace/hobby/venv/bin/pip3.8"
   ]
  },
  {
   "cell_type": "markdown",
   "metadata": {},
   "source": [
    "### 가상 환경 안에서의 패키지 이용"
   ]
  },
  {
   "cell_type": "raw",
   "metadata": {},
   "source": [
    "(venv) $ pip install Django==3.0.1\n",
    "(venv) $ pip list\n",
    "Package    Version\n",
    "---------- -------\n",
    "asgiref    3.2.3\n",
    "Django     3.0.1\n",
    "pip        19.2.3\n",
    "pytz       2019.3\n",
    "setuptools 41.2.0\n",
    "sqlparse   0.3.0\n",
    "WARNING: You are using pip version 19.2.3, however version 19.3.1 is available.\n",
    "You should consider upgrading via the 'pip install --upgrade pip' command."
   ]
  },
  {
   "cell_type": "raw",
   "metadata": {},
   "source": [
    "# 비교를 위해 새로운 Dhango 프로젝트를 만들어 둠\n",
    "(venv) $ django-admin startproject hobby"
   ]
  },
  {
   "cell_type": "raw",
   "metadata": {},
   "source": [
    "(venv) $ deactivate"
   ]
  },
  {
   "cell_type": "code",
   "execution_count": 7,
   "metadata": {},
   "outputs": [
    {
     "name": "stdout",
     "output_type": "stream",
     "text": [
      "Package           Version\n",
      "----------------- -------\n",
      "appnope           0.1.0  \n",
      "attrs             19.3.0 \n",
      "backcall          0.1.0  \n",
      "bleach            3.1.0  \n",
      "decorator         4.4.1  \n",
      "defusedxml        0.6.0  \n",
      "entrypoints       0.3    \n",
      "ipykernel         5.1.3  \n",
      "ipython           7.10.2 \n",
      "ipython-genutils  0.2.0  \n",
      "jedi              0.15.2 \n",
      "Jinja2            2.10.3 \n",
      "json5             0.8.5  \n",
      "jsonschema        3.2.0  \n",
      "jupyter-client    5.3.4  \n",
      "jupyter-core      4.6.1  \n",
      "jupyterlab        1.2.4  \n",
      "jupyterlab-server 1.0.6  \n",
      "MarkupSafe        1.1.1  \n",
      "mistune           0.8.4  \n",
      "nbconvert         5.6.1  \n",
      "nbformat          4.4.0  \n",
      "notebook          6.0.2  \n",
      "numpy             1.17.4 \n",
      "pandocfilters     1.4.2  \n",
      "parso             0.5.2  \n",
      "pexpect           4.7.0  \n",
      "pickleshare       0.7.5  \n",
      "pip               19.2.3 \n",
      "prometheus-client 0.7.1  \n",
      "prompt-toolkit    3.0.2  \n",
      "ptyprocess        0.6.0  \n",
      "Pygments          2.5.2  \n",
      "pyrsistent        0.15.6 \n",
      "python-dateutil   2.8.1  \n",
      "pyzmq             18.1.1 \n",
      "Send2Trash        1.5.0  \n",
      "setuptools        41.2.0 \n",
      "six               1.13.0 \n",
      "terminado         0.8.3  \n",
      "testpath          0.4.4  \n",
      "tornado           6.0.3  \n",
      "traitlets         4.3.3  \n",
      "wcwidth           0.1.7  \n",
      "webencodings      0.5.1  \n",
      "\u001b[33mWARNING: You are using pip version 19.2.3, however version 19.3.1 is available.\n",
      "You should consider upgrading via the 'pip install --upgrade pip' command.\u001b[0m\n",
      "Note: you may need to restart the kernel to use updated packages.\n"
     ]
    }
   ],
   "source": [
    "# 가상 환경 안과 결과가 달라짐\n",
    "%pip list"
   ]
  },
  {
   "cell_type": "markdown",
   "metadata": {},
   "source": [
    "### 여러 프로젝트를 동시에 개발"
   ]
  },
  {
   "cell_type": "code",
   "execution_count": 8,
   "metadata": {},
   "outputs": [
    {
     "name": "stdout",
     "output_type": "stream",
     "text": [
      "/Users/suyamar/github/python-practice-book/src/11-environment-and-packages/workspace/work\n"
     ]
    }
   ],
   "source": [
    "%cd ../work"
   ]
  },
  {
   "cell_type": "raw",
   "metadata": {},
   "source": [
    "Notebook 환경은 이미 파이썬 환경 안이므로 가상 환경은 활성화 할 수 없습니다."
   ]
  },
  {
   "cell_type": "raw",
   "metadata": {},
   "source": [
    "# 仮想環境内のPythonも3.8になる\n",
    "$ python3.8 -m venv venv\n",
    "$ . venv/bin/activate\n",
    "(venv) $ pip install Django==2.2.9\n",
    "(venv) $ pip list\n",
    "Package    Version\n",
    "---------- -------\n",
    "Django     2.2.9\n",
    "pip        19.2.3\n",
    "pytz       2019.3\n",
    "setuptools 41.2.0\n",
    "sqlparse   0.3.0\n",
    "You are using pip version 19.2.3, however version 19.3.1 is available.\n",
    "You should consider upgrading via the 'pip install --upgrade pip' command."
   ]
  },
  {
   "cell_type": "raw",
   "metadata": {},
   "source": [
    "# 새로운 장고 프로젝트를 작성\n",
    "(venv) $ django-admin startproject work"
   ]
  },
  {
   "cell_type": "raw",
   "metadata": {},
   "source": [
    "(venv) $ deactivate"
   ]
  },
  {
   "cell_type": "code",
   "execution_count": 9,
   "metadata": {},
   "outputs": [
    {
     "name": "stdout",
     "output_type": "stream",
     "text": [
      "/Users/suyamar/github/python-practice-book/src/11-environment-and-packages\n"
     ]
    }
   ],
   "source": [
    "%cd ../../"
   ]
  },
  {
   "cell_type": "code",
   "execution_count": 10,
   "metadata": {},
   "outputs": [],
   "source": [
    "# workspace/ 별 가상 환경 삭제\n",
    "%rm -rf workspace"
   ]
  },
  {
   "cell_type": "markdown",
   "metadata": {},
   "source": [
    "# 패키지 이용"
   ]
  },
  {
   "cell_type": "markdown",
   "metadata": {},
   "source": [
    "## pip ── 패키지 관리 도구"
   ]
  },
  {
   "cell_type": "markdown",
   "metadata": {},
   "source": [
    "### 기본 사용법"
   ]
  },
  {
   "cell_type": "code",
   "execution_count": 11,
   "metadata": {},
   "outputs": [],
   "source": [
    "!mkdir workspace"
   ]
  },
  {
   "cell_type": "code",
   "execution_count": 12,
   "metadata": {},
   "outputs": [
    {
     "name": "stdout",
     "output_type": "stream",
     "text": [
      "/Users/suyamar/github/python-practice-book/src/11-environment-and-packages/workspace\n"
     ]
    }
   ],
   "source": [
    "%cd workspace"
   ]
  },
  {
   "cell_type": "code",
   "execution_count": 13,
   "metadata": {},
   "outputs": [],
   "source": [
    "!python3 -m venv venv"
   ]
  },
  {
   "cell_type": "raw",
   "metadata": {},
   "source": [
    "Notebook 환경은 이미 파이썬 환경 안이므로 가상 환경은 활성화 할 수 없습니다.。"
   ]
  },
  {
   "cell_type": "raw",
   "metadata": {},
   "source": [
    "$ . venv/bin/activate"
   ]
  },
  {
   "cell_type": "markdown",
   "metadata": {},
   "source": [
    "### パッケージのインストール"
   ]
  },
  {
   "cell_type": "raw",
   "metadata": {},
   "source": [
    "# -qを付けると進捗状況は表示されない\n",
    "(venv) $ pip install sampleproject\n",
    "Collecting sampleproject\n",
    "  Downloading https://files.pythonhosted.org/packages/a4/95/7398f8a08a0e83dc39dd4cbada9d22c65bcbb41c36626b2c54a1db83c710/sampleproject-1.3.1-py2.py3-none-any.whl\n",
    "Collecting peppercorn (from sampleproject)\n",
    "  Downloading https://files.pythonhosted.org/packages/14/84/d8d9c3f17bda2b6f49406982546d6f6bc0fa188a43d4e3ba9169a457ee04/peppercorn-0.6-py3-none-any.whl\n",
    "Installing collected packages: peppercorn, sampleproject\n",
    "Successfully installed peppercorn-0.6 sampleproject-1.3.1"
   ]
  },
  {
   "cell_type": "raw",
   "metadata": {},
   "source": [
    "(venv) $ pip list\n",
    "Package       Version\n",
    "------------- -------\n",
    "peppercorn    0.6\n",
    "pip           19.2.3\n",
    "sampleproject 1.3.1\n",
    "setuptools    41.2.0"
   ]
  },
  {
   "cell_type": "markdown",
   "metadata": {},
   "source": [
    "### パッケージのアンインストール"
   ]
  },
  {
   "cell_type": "raw",
   "metadata": {},
   "source": [
    "# -yを付けると確認メッセージが省略される\n",
    "(venv) $ pip uninstall sampleproject\n",
    "Uninstalling sampleproject-1.3.1:\n",
    "  Would remove:\n",
    "    /Users/rhoboro/workspace/hobby/venv/bin/sample\n",
    "    /Users/rhoboro/workspace/hobby/venv/lib/python3.8/site-packages/sample/*\n",
    "    /Users/rhoboro/workspace/hobby/venv/lib/python3.8/site-packages/sampleproject-1.3.1.dist-info/*\n",
    "    /Users/rhoboro/workspace/hobby/venv/my_data/data_file\n",
    "Proceed (y/n)? y # yと入力\n",
    "  Successfully uninstalled sampleproject-1.3.1"
   ]
  },
  {
   "cell_type": "raw",
   "metadata": {},
   "source": [
    "# sampleprojectが一覧から消えている\n",
    "(venv) $ pip list\n",
    "Package    Version\n",
    "---------- -------\n",
    "peppercorn 0.6\n",
    "pip        19.2.3\n",
    "setuptools 41.2.0"
   ]
  },
  {
   "cell_type": "markdown",
   "metadata": {},
   "source": [
    "### PyPI ── Pythonパッケージのリポジトリ"
   ]
  },
  {
   "cell_type": "markdown",
   "metadata": {},
   "source": [
    "### ソースコードリポジトリにあるパッケージをインストールする"
   ]
  },
  {
   "cell_type": "raw",
   "metadata": {},
   "source": [
    "# vcs+protocol://repo_url/#egg=pkgが基本構造\n",
    "(venv) $ pip install git+https://github.com/pypa/sampleproject#egg=sampleproject（実際は1行）\n",
    "（省略）"
   ]
  },
  {
   "cell_type": "raw",
   "metadata": {},
   "source": [
    "# masterブランチを指定して実行\n",
    "(venv) $ pip install git+https://github.com/pypa/sampleproject@master#egg=sampleproject（実際は1行）\n",
    "（省略）"
   ]
  },
  {
   "cell_type": "markdown",
   "metadata": {},
   "source": [
    "### ローカルにあるパッケージをインストールする"
   ]
  },
  {
   "cell_type": "raw",
   "metadata": {},
   "source": [
    "# 入れなおすため、先にアンインストールしておく\n",
    "(venv) $ pip uninstall sampleproject"
   ]
  },
  {
   "cell_type": "raw",
   "metadata": {},
   "source": [
    "(venv) $ git clone https://github.com/pypa/sampleproject.git"
   ]
  },
  {
   "cell_type": "raw",
   "metadata": {},
   "source": [
    "(venv) $ cd sampleproject"
   ]
  },
  {
   "cell_type": "raw",
   "metadata": {},
   "source": [
    "# カレントディレクトリのパッケージをインストール\n",
    "(venv) $ pip install -e ."
   ]
  },
  {
   "cell_type": "raw",
   "metadata": {},
   "source": [
    "(venv) $ python3 -c 'import sample; sample.main()'\n",
    "Call your main application code here"
   ]
  },
  {
   "cell_type": "raw",
   "metadata": {},
   "source": [
    "(注:sample/__init__.py)\n",
    "\n",
    "def main():\n",
    "    \"\"\"Entry point for the application script\"\"\"\n",
    "    print(\"Editable mode\")"
   ]
  },
  {
   "cell_type": "raw",
   "metadata": {},
   "source": [
    "# 編集結果が再インストールなしで反映される\n",
    "(venv)$ python3 -c 'import sample; sample.main()'\n",
    "Editable mode"
   ]
  },
  {
   "cell_type": "raw",
   "metadata": {},
   "source": [
    "# 入れなおすため、削除しておく\n",
    "(venv) $ pip uninstall sampleproject"
   ]
  },
  {
   "cell_type": "code",
   "execution_count": 14,
   "metadata": {},
   "outputs": [
    {
     "name": "stdout",
     "output_type": "stream",
     "text": [
      "/Users/suyamar/github/python-practice-book/src/11-environment-and-packages\n"
     ]
    }
   ],
   "source": [
    "%cd ../"
   ]
  },
  {
   "cell_type": "code",
   "execution_count": 15,
   "metadata": {},
   "outputs": [
    {
     "name": "stdout",
     "output_type": "stream",
     "text": [
      "Collecting sampleproject\n",
      "  Downloading https://files.pythonhosted.org/packages/a4/95/7398f8a08a0e83dc39dd4cbada9d22c65bcbb41c36626b2c54a1db83c710/sampleproject-1.3.1-py2.py3-none-any.whl\n",
      "  Saved ./archives/sampleproject-1.3.1-py2.py3-none-any.whl\n",
      "Collecting peppercorn (from sampleproject)\n",
      "  Downloading https://files.pythonhosted.org/packages/14/84/d8d9c3f17bda2b6f49406982546d6f6bc0fa188a43d4e3ba9169a457ee04/peppercorn-0.6-py3-none-any.whl\n",
      "  Saved ./archives/peppercorn-0.6-py3-none-any.whl\n",
      "Successfully downloaded sampleproject peppercorn\n",
      "\u001b[33mWARNING: You are using pip version 19.2.3, however version 19.3.1 is available.\n",
      "You should consider upgrading via the 'pip install --upgrade pip' command.\u001b[0m\n",
      "Note: you may need to restart the kernel to use updated packages.\n"
     ]
    }
   ],
   "source": [
    "%pip download -d archives sampleproject"
   ]
  },
  {
   "cell_type": "code",
   "execution_count": 16,
   "metadata": {},
   "outputs": [
    {
     "name": "stdout",
     "output_type": "stream",
     "text": [
      "peppercorn-0.6-py3-none-any.whl\n",
      "sampleproject-1.3.1-py2.py3-none-any.whl\n"
     ]
    }
   ],
   "source": [
    "!ls archives"
   ]
  },
  {
   "cell_type": "raw",
   "metadata": {},
   "source": [
    "# オフライン環境でもarchives/からインストールできる\n",
    "(venv) $ pip install --no-index --find-links=archives \\\n",
    "  sampleproject\n",
    "Looking in links: archives\n",
    "Collecting sampleproject\n",
    "Requirement already satisfied: peppercorn in ./venv/lib/python3.7/site-packages (from sampleproject) (0.6)\n",
    "Installing collected packages: sampleproject\n",
    "Successfully installed sampleproject-1.3.1"
   ]
  },
  {
   "cell_type": "markdown",
   "metadata": {},
   "source": [
    "### インストール済みのパッケージをアップデートする"
   ]
  },
  {
   "cell_type": "raw",
   "metadata": {},
   "source": [
    "(venv) $ pip install sampleproject\n",
    "Requirement already satisfied: sampleproject in ./venv/lib/python3.8/site-packages (1.3.1)\n",
    "Requirement already satisfied: peppercorn in ./venv/lib/python3.8/site-packages (from sampleproject) (0.6)"
   ]
  },
  {
   "cell_type": "code",
   "execution_count": 17,
   "metadata": {},
   "outputs": [
    {
     "name": "stdout",
     "output_type": "stream",
     "text": [
      "Requirement already satisfied: pip in /Users/suyamar/github/python-practice-book/src/venv/lib/python3.8/site-packages (19.2.3)\n",
      "\u001b[33mWARNING: You are using pip version 19.2.3, however version 19.3.1 is available.\n",
      "You should consider upgrading via the 'pip install --upgrade pip' command.\u001b[0m\n",
      "Note: you may need to restart the kernel to use updated packages.\n"
     ]
    }
   ],
   "source": [
    "# すでにインストール済みのパッケージを指定\n",
    "%pip install pip"
   ]
  },
  {
   "cell_type": "code",
   "execution_count": 18,
   "metadata": {},
   "outputs": [
    {
     "name": "stdout",
     "output_type": "stream",
     "text": [
      "pip 19.2.3 from /Users/suyamar/github/python-practice-book/src/venv/lib/python3.8/site-packages/pip (python 3.8)\n",
      "Note: you may need to restart the kernel to use updated packages.\n"
     ]
    }
   ],
   "source": [
    "# 現在のpipのバージョンを表示\n",
    "%pip -V"
   ]
  },
  {
   "cell_type": "code",
   "execution_count": 19,
   "metadata": {},
   "outputs": [
    {
     "name": "stdout",
     "output_type": "stream",
     "text": [
      "Collecting pip\n",
      "\u001b[?25l  Downloading https://files.pythonhosted.org/packages/00/b6/9cfa56b4081ad13874b0c6f96af8ce16cfbc1cb06bedf8e9164ce5551ec1/pip-19.3.1-py2.py3-none-any.whl (1.4MB)\n",
      "\u001b[K     |████████████████████████████████| 1.4MB 1.6MB/s eta 0:00:01\n",
      "\u001b[?25hInstalling collected packages: pip\n",
      "  Found existing installation: pip 19.2.3\n",
      "    Uninstalling pip-19.2.3:\n",
      "      Successfully uninstalled pip-19.2.3\n",
      "Successfully installed pip-19.3.1\n",
      "Note: you may need to restart the kernel to use updated packages.\n"
     ]
    }
   ],
   "source": [
    "# パッケージを最新版にアップデート\n",
    "%pip install -U pip"
   ]
  },
  {
   "cell_type": "raw",
   "metadata": {},
   "source": [
    "# 現在のpipのバージョンを表示\n",
    "(venv) $ pip -V\n",
    "pip 19.3.1 from /Users/rhoboro/workspace/venv/lib/python3.8/site-packages/pip (python 3.8)"
   ]
  },
  {
   "cell_type": "markdown",
   "metadata": {},
   "source": [
    "### 現在のユーザー用にインストールする"
   ]
  },
  {
   "cell_type": "raw",
   "metadata": {},
   "source": [
    "# 仮想環境の外で試す\n",
    "(venv) $ deactivate"
   ]
  },
  {
   "cell_type": "code",
   "execution_count": 20,
   "metadata": {},
   "outputs": [
    {
     "name": "stdout",
     "output_type": "stream",
     "text": [
      "Collecting sampleproject\n",
      "  Downloading https://files.pythonhosted.org/packages/a4/95/7398f8a08a0e83dc39dd4cbada9d22c65bcbb41c36626b2c54a1db83c710/sampleproject-1.3.1-py2.py3-none-any.whl\n",
      "Collecting peppercorn\n",
      "  Downloading https://files.pythonhosted.org/packages/14/84/d8d9c3f17bda2b6f49406982546d6f6bc0fa188a43d4e3ba9169a457ee04/peppercorn-0.6-py3-none-any.whl\n",
      "Installing collected packages: peppercorn, sampleproject\n",
      "\u001b[33m  WARNING: The script sample is installed in '/Users/suyamar/Library/Python/3.8/bin' which is not on PATH.\n",
      "  Consider adding this directory to PATH or, if you prefer to suppress this warning, use --no-warn-script-location.\u001b[0m\n",
      "Successfully installed peppercorn-0.6 sampleproject-1.3.1\n"
     ]
    }
   ],
   "source": [
    "# ユーザー環境下にインストール\n",
    "!pip3 install --user sampleproject"
   ]
  },
  {
   "cell_type": "code",
   "execution_count": 21,
   "metadata": {},
   "outputs": [
    {
     "name": "stdout",
     "output_type": "stream",
     "text": [
      "ls: /Users/suyamar/.local/lib/python3.8/site-packages: No such file or directory\n"
     ]
    }
   ],
   "source": [
    "!ls -la ~/.local/lib/python3.8/site-packages"
   ]
  },
  {
   "cell_type": "code",
   "execution_count": 22,
   "metadata": {},
   "outputs": [
    {
     "name": "stdout",
     "output_type": "stream",
     "text": [
      "\u001b[33mWARNING: Skipping sampleproject as it is not installed.\u001b[0m\n"
     ]
    }
   ],
   "source": [
    "# 以降では不要なのでアンインストールしておく\n",
    "!pip3 uninstall sampleproject -y"
   ]
  },
  {
   "cell_type": "markdown",
   "metadata": {},
   "source": [
    "## 環境の保存と再現 ── requirementsファイルの活用"
   ]
  },
  {
   "cell_type": "markdown",
   "metadata": {},
   "source": [
    "### 現在の環境の情報をrequirementsファイルに保存する"
   ]
  },
  {
   "cell_type": "code",
   "execution_count": 23,
   "metadata": {},
   "outputs": [
    {
     "name": "stdout",
     "output_type": "stream",
     "text": [
      "sampleproject\n"
     ]
    }
   ],
   "source": [
    "!cat requirements.txt"
   ]
  },
  {
   "cell_type": "code",
   "execution_count": 24,
   "metadata": {},
   "outputs": [],
   "source": [
    "!python3 -m venv venv"
   ]
  },
  {
   "cell_type": "raw",
   "metadata": {},
   "source": [
    "Notebook環境はすでにPython環境内であるため仮想環境の有効化はできません。"
   ]
  },
  {
   "cell_type": "raw",
   "metadata": {},
   "source": [
    "$ . venv/bin/activate\n",
    "(venv) $ pip install -U pip\n",
    "\n",
    "# requirementsファイルを使ったインストール\n",
    "(venv) $ pip install -r requirements.txt\n",
    "（省略）\n",
    "\n",
    "# sampleprojectがインストールされた\n",
    "(venv) $ pip list\n",
    "Package       Version\n",
    "------------- -------\n",
    "peppercorn    0.6\n",
    "pip           19.3.1\n",
    "sampleproject 1.3.1\n",
    "setuptools    41.2.0"
   ]
  },
  {
   "cell_type": "raw",
   "metadata": {},
   "source": [
    "# requirements.lockに環境を保存\n",
    "(venv) $ pip freeze > requirements.lock"
   ]
  },
  {
   "cell_type": "code",
   "execution_count": 25,
   "metadata": {},
   "outputs": [
    {
     "name": "stdout",
     "output_type": "stream",
     "text": [
      "peppercorn==0.6\n",
      "sampleproject==1.3.1"
     ]
    }
   ],
   "source": [
    "!cat requirements.lock"
   ]
  },
  {
   "cell_type": "markdown",
   "metadata": {},
   "source": [
    "### requirementsファイルから環境を再現する"
   ]
  },
  {
   "cell_type": "raw",
   "metadata": {},
   "source": [
    "(venv) $ deactivate"
   ]
  },
  {
   "cell_type": "code",
   "execution_count": 26,
   "metadata": {},
   "outputs": [],
   "source": [
    "!python3 -m venv newenv"
   ]
  },
  {
   "cell_type": "raw",
   "metadata": {},
   "source": [
    "Notebook環境はすでにPython環境内であるため仮想環境の有効化はできません。"
   ]
  },
  {
   "cell_type": "raw",
   "metadata": {},
   "source": [
    "$ . newenv/bin/activate\n",
    "(newenv) $ pip install -q -U pip\n",
    "\n",
    "# requirements.lockから環境を再現\n",
    "(newenv) $ pip install -r requirements.lock\n",
    "（省略）"
   ]
  },
  {
   "cell_type": "raw",
   "metadata": {},
   "source": [
    "(newenv) $ pip list\n",
    "Package       Version\n",
    "------------- -------\n",
    "peppercorn    0.6\n",
    "pip           19.3.1\n",
    "sampleproject 1.3.1\n",
    "setuptools    41.2.0"
   ]
  },
  {
   "cell_type": "raw",
   "metadata": {},
   "source": [
    "(newenv) $ deactivate\n",
    "$ rm -rf newenv"
   ]
  },
  {
   "cell_type": "markdown",
   "metadata": {},
   "source": [
    "### 開発環境でのみ利用するパッケージの管理"
   ]
  },
  {
   "cell_type": "code",
   "execution_count": 27,
   "metadata": {},
   "outputs": [
    {
     "name": "stdout",
     "output_type": "stream",
     "text": [
      "pytest==5.2.2"
     ]
    }
   ],
   "source": [
    "!cat requirements_dev.txt"
   ]
  },
  {
   "cell_type": "markdown",
   "metadata": {},
   "source": [
    "### 依存パッケージのアップデート"
   ]
  },
  {
   "cell_type": "code",
   "execution_count": 28,
   "metadata": {},
   "outputs": [],
   "source": [
    "# 古い環境を削除して新しい仮想環境を作成\n",
    "!rm -rf venv"
   ]
  },
  {
   "cell_type": "code",
   "execution_count": 29,
   "metadata": {},
   "outputs": [],
   "source": [
    "!python3 -m venv venv"
   ]
  },
  {
   "cell_type": "raw",
   "metadata": {},
   "source": [
    "Notebook環境はすでにPython環境内であるため仮想環境の有効化はできません。"
   ]
  },
  {
   "cell_type": "raw",
   "metadata": {},
   "source": [
    "$ . venv/bin/activate\n",
    "(venv) $ pip install -r requirements.txt\n",
    "(venv) $ pip freeze > requirements.lock"
   ]
  },
  {
   "cell_type": "markdown",
   "metadata": {},
   "source": [
    "# パッケージの作成"
   ]
  },
  {
   "cell_type": "markdown",
   "metadata": {},
   "source": [
    "## setup.py ── パッケージの情報をまとめたファイル"
   ]
  },
  {
   "cell_type": "markdown",
   "metadata": {},
   "source": [
    "### パッケージのディレクトリ構成"
   ]
  },
  {
   "cell_type": "code",
   "execution_count": 30,
   "metadata": {},
   "outputs": [
    {
     "name": "stdout",
     "output_type": "stream",
     "text": [
      "def main():\n",
      "    print('pythonbook')"
     ]
    }
   ],
   "source": [
    "!cat pythonbook/__init__.py"
   ]
  },
  {
   "cell_type": "markdown",
   "metadata": {},
   "source": [
    "### setup.pyの基本"
   ]
  },
  {
   "cell_type": "raw",
   "metadata": {},
   "source": [
    "(注:setup.py)\n",
    "from setuptools import setup, find_packages\n",
    "\n",
    "setup(\n",
    "    name='pythonbook',\n",
    "    version='1.0.0',\n",
    "    packages=find_packages(),\n",
    ")"
   ]
  },
  {
   "cell_type": "code",
   "execution_count": 31,
   "metadata": {},
   "outputs": [],
   "source": [
    "!python3 -m venv venv"
   ]
  },
  {
   "cell_type": "raw",
   "metadata": {},
   "source": [
    "Notebook環境はすでにPython環境内であるため仮想環境の有効化はできません。"
   ]
  },
  {
   "cell_type": "raw",
   "metadata": {},
   "source": [
    "(venv) $ pip install -e .\n",
    "Obtaining file:///Users/rhoboro/workspace/pythonbook\n",
    "Installing collected packages: pythonbook\n",
    "  Running setup.py develop for pythonbook\n",
    "Successfully installed pythonbook\n",
    "(venv) $ pip freeze\n",
    "pythonbook==1.0.0"
   ]
  },
  {
   "cell_type": "markdown",
   "metadata": {},
   "source": [
    "### PyPIへの登録を考慮する"
   ]
  },
  {
   "cell_type": "raw",
   "metadata": {},
   "source": [
    "(注:setup.py)\n",
    "from setuptools import setup, find_packages\n",
    "\n",
    "\n",
    "setup(\n",
    "    name='pythonbook',\n",
    "    version='1.0.0',\n",
    "    packages=find_packages(),\n",
    "\n",
    "    # 作者、プロジェクト情報\n",
    "    author='rei suyama',\n",
    "    author_email='rhoboro@gmail.com',\n",
    "    \n",
    "    # プロジェクトのホームページのURL\n",
    "    url='https://github.com/rhoboro/pythonbook',\n",
    "\n",
    "    # 短い説明文と長い説明文を用意\n",
    "    # content_typeは下記のいずれか\n",
    "    # text/plain, text/x-rst, text/markdown\n",
    "    description='This is a test package for me.',\n",
    "    long_description=open('README.md').read(),\n",
    "    long_description_content_type='text/markdown',\n",
    "\n",
    "    # Pythonバージョンは3.6以上で4未満\n",
    "    python_requires='~=3.6',\n",
    "\n",
    "    # PyPI上での検索、閲覧のために利用される\n",
    "    # ライセンス、Pythonバージョン、OSを含めること\n",
    "    classifiers=[\n",
    "      'License :: OSI Approved :: MIT License',\n",
    "      'Programming Language :: Python :: 3',\n",
    "      'Programming Language :: Python :: 3.6',\n",
    "      'Programming Language :: Python :: 3.7',\n",
    "      'Programming Language :: Python :: 3.8',\n",
    "      'Operating System :: OS Independent',\n",
    "    ],\n",
    ")"
   ]
  },
  {
   "cell_type": "code",
   "execution_count": 32,
   "metadata": {},
   "outputs": [
    {
     "name": "stdout",
     "output_type": "stream",
     "text": [
      "include LICENSE.txt\n",
      "include *.md"
     ]
    }
   ],
   "source": [
    "!cat MANIFEST.in"
   ]
  },
  {
   "cell_type": "markdown",
   "metadata": {},
   "source": [
    "### 依存パッケージを考慮する"
   ]
  },
  {
   "cell_type": "raw",
   "metadata": {},
   "source": [
    "(注:setup.py)\n",
    "（省略）\n",
    "setup(\n",
    "（省略）\n",
    "    install_requires=[\n",
    "\n",
    "      # Clickのバージョンは7.0以上8未満\n",
    "      'Click~=7.0',\n",
    "\n",
    "      # sampleprojectをコミットを指定して取得\n",
    "      'sampleproject@git+https://github.com/pypa/sampleproject#sha1=0754c8ab224f0886f4939cca3f4ca9e5fd5e5d90',（実際は1行）\n",
    "    ],\n",
    ")"
   ]
  },
  {
   "cell_type": "raw",
   "metadata": {},
   "source": [
    "(注:setup.py)\n",
    "（省略）\n",
    "setup(\n",
    "（省略）\n",
    "    extras_require={\n",
    "      's3': ['boto3'],\n",
    "      'gcs': ['google-cloud-storage'],\n",
    "    },\n",
    ")"
   ]
  },
  {
   "cell_type": "markdown",
   "metadata": {},
   "source": [
    "### .py以外のファイルを考慮する"
   ]
  },
  {
   "cell_type": "raw",
   "metadata": {},
   "source": [
    "(注:setup.py)\n",
    "（省略）\n",
    "setup(\n",
    "（省略）\n",
    "    package_data={'pythonbook': ['data/*']},\n",
    ")"
   ]
  },
  {
   "cell_type": "raw",
   "metadata": {},
   "source": [
    "# コピーされる内容を確認したいので-eオプションは不要\n",
    "(venv) $ pip install .\n",
    "Processing /Users/rhoboro/work/pythonbook\n",
    "Installing collected packages: pythonbook\n",
    "  Running setup.py install for pythonbook ... done\n",
    "Successfully installed pythonbook-1.0.0\n",
    "\n",
    "# pythonbook/data/のみ含まれている\n",
    "(venv) $ ls venv/lib/python3.8/site-packages/pythonbook/\n",
    "__init__.py __pycache__ data\n",
    "(venv) $ ls venv/lib/python3.8/site-packages/pythonbook/data/（実際は1行）\n",
    "data_file"
   ]
  },
  {
   "cell_type": "markdown",
   "metadata": {},
   "source": [
    "### PyPIへのパッケージの登録"
   ]
  },
  {
   "cell_type": "markdown",
   "metadata": {},
   "source": [
    "### PyPIのアカウント作成"
   ]
  },
  {
   "cell_type": "raw",
   "metadata": {},
   "source": [
    "(注:~/.pypirc)\n",
    "[distutils]\n",
    "index-servers =\n",
    "  pypi\n",
    "  testpypi\n",
    "\n",
    "[pypi]\n",
    "username=<登録したアカウント>\n",
    "\n",
    "[testpypi]\n",
    "repository=https://test.pypi.org/legacy/\n",
    "username=<登録したアカウント>"
   ]
  },
  {
   "cell_type": "code",
   "execution_count": 33,
   "metadata": {},
   "outputs": [
    {
     "name": "stdout",
     "output_type": "stream",
     "text": [
      "running sdist\n",
      "running egg_info\n",
      "writing pythonbook.egg-info/PKG-INFO\n",
      "writing dependency_links to pythonbook.egg-info/dependency_links.txt\n",
      "writing requirements to pythonbook.egg-info/requires.txt\n",
      "writing top-level names to pythonbook.egg-info/top_level.txt\n",
      "reading manifest file 'pythonbook.egg-info/SOURCES.txt'\n",
      "reading manifest template 'MANIFEST.in'\n",
      "writing manifest file 'pythonbook.egg-info/SOURCES.txt'\n",
      "running check\n",
      "creating pythonbook-1.0.0\n",
      "creating pythonbook-1.0.0/pythonbook\n",
      "creating pythonbook-1.0.0/pythonbook.egg-info\n",
      "copying files to pythonbook-1.0.0...\n",
      "copying LICENSE.txt -> pythonbook-1.0.0\n",
      "copying MANIFEST.in -> pythonbook-1.0.0\n",
      "copying README.md -> pythonbook-1.0.0\n",
      "copying setup.py -> pythonbook-1.0.0\n",
      "copying pythonbook/__init__.py -> pythonbook-1.0.0/pythonbook\n",
      "copying pythonbook.egg-info/PKG-INFO -> pythonbook-1.0.0/pythonbook.egg-info\n",
      "copying pythonbook.egg-info/SOURCES.txt -> pythonbook-1.0.0/pythonbook.egg-info\n",
      "copying pythonbook.egg-info/dependency_links.txt -> pythonbook-1.0.0/pythonbook.egg-info\n",
      "copying pythonbook.egg-info/requires.txt -> pythonbook-1.0.0/pythonbook.egg-info\n",
      "copying pythonbook.egg-info/top_level.txt -> pythonbook-1.0.0/pythonbook.egg-info\n",
      "Writing pythonbook-1.0.0/setup.cfg\n",
      "Creating tar archive\n",
      "removing 'pythonbook-1.0.0' (and everything under it)\n"
     ]
    }
   ],
   "source": [
    "!python setup.py sdist"
   ]
  },
  {
   "cell_type": "code",
   "execution_count": 34,
   "metadata": {},
   "outputs": [
    {
     "name": "stdout",
     "output_type": "stream",
     "text": [
      "pythonbook-1.0.0.tar.gz\n"
     ]
    }
   ],
   "source": [
    "!ls dist"
   ]
  },
  {
   "cell_type": "raw",
   "metadata": {},
   "source": [
    "(venv) $ pip install wheel==0.33.6\n",
    "(venv) $ python setup.py bdist_wheel\n",
    "(venv) $ ls dist\n",
    "pythonbook-1.0.0-py3-none-any.whl pythonbook-1.0.0.tar.gz\n",
    "\n",
    "# whlファイルの実体はZIPファイル\n",
    "(venv) $ file dist/pythonbook-1.0.0-py3-none-any.whl\n",
    "dist/pythonbook-1.0.0-py3-none-any.whl: Zip archive data, at least v2.0 to extract"
   ]
  },
  {
   "cell_type": "markdown",
   "metadata": {},
   "source": [
    "### 配布物のアップロード"
   ]
  },
  {
   "cell_type": "raw",
   "metadata": {},
   "source": [
    "(venv) $ pip install twine==2.0.0\n",
    "(venv) $ twine upload -r testpypi dist/*\n",
    "Uploading distributions to https://test.pypi.org/legacy/\n",
    "Uploading pythonbook-1.0.0-py3-none-any.whl\n",
    "100%|██████████████████████████████████████████████████████████████████████████████████████████████████████████████████████████████████████████████████████████████████| 4.11k/4.11k [00:00<00:00, 7.20kB/s]\n",
    "Uploading pythonbook-1.0.0.tar.gz\n",
    "100%|██████████████████████████████████████████████████████████████████████████████████████████████████████████████████████████████████████████████████████████████████| 3.41k/3.41k [00:01<00:00, 2.80kB/s]"
   ]
  },
  {
   "cell_type": "code",
   "execution_count": 35,
   "metadata": {},
   "outputs": [],
   "source": [
    "# まっさらな仮想環境を用意\n",
    "!python3 -m venv newenv"
   ]
  },
  {
   "cell_type": "raw",
   "metadata": {},
   "source": [
    "Notebook環境はすでにPython環境内であるため仮想環境の有効化はできません。"
   ]
  },
  {
   "cell_type": "raw",
   "metadata": {},
   "source": [
    "$ . newenv/bin/activate"
   ]
  },
  {
   "cell_type": "raw",
   "metadata": {},
   "source": [
    "# TestPyPIからインストールして動作確認\n",
    "(newenv) $ pip install \\\n",
    "  -i https://test.pypi.org/simple/ pythonbook\n",
    "(newenv) $ python3 -q\n",
    ">>> from pythonbook import main\n",
    ">>> main()\n",
    "pythonbook"
   ]
  },
  {
   "cell_type": "raw",
   "metadata": {},
   "source": [
    "(newenv) $ twine upload -r pypi dist/*"
   ]
  },
  {
   "cell_type": "markdown",
   "metadata": {},
   "source": [
    "# 本章のまとめ"
   ]
  }
 ],
 "metadata": {
  "kernelspec": {
   "display_name": "Python 3",
   "language": "python",
   "name": "python3"
  },
  "language_info": {
   "codemirror_mode": {
    "name": "ipython",
    "version": 3
   },
   "file_extension": ".py",
   "mimetype": "text/x-python",
   "name": "python",
   "nbconvert_exporter": "python",
   "pygments_lexer": "ipython3",
   "version": "3.8.1"
  }
 },
 "nbformat": 4,
 "nbformat_minor": 4
}
